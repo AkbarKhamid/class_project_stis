{
 "cells": [
  {
   "cell_type": "code",
   "execution_count": 1,
   "metadata": {
    "scrolled": true
   },
   "outputs": [
    {
     "data": {
      "text/html": [
       "<div>\n",
       "<style scoped>\n",
       "    .dataframe tbody tr th:only-of-type {\n",
       "        vertical-align: middle;\n",
       "    }\n",
       "\n",
       "    .dataframe tbody tr th {\n",
       "        vertical-align: top;\n",
       "    }\n",
       "\n",
       "    .dataframe thead th {\n",
       "        text-align: right;\n",
       "    }\n",
       "</style>\n",
       "<table border=\"1\" class=\"dataframe\">\n",
       "  <thead>\n",
       "    <tr style=\"text-align: right;\">\n",
       "      <th></th>\n",
       "      <th>sofifa_id</th>\n",
       "      <th>player_url</th>\n",
       "      <th>short_name</th>\n",
       "      <th>long_name</th>\n",
       "      <th>age</th>\n",
       "      <th>dob</th>\n",
       "      <th>height_cm</th>\n",
       "      <th>weight_kg</th>\n",
       "      <th>nationality</th>\n",
       "      <th>club</th>\n",
       "      <th>...</th>\n",
       "      <th>lwb</th>\n",
       "      <th>ldm</th>\n",
       "      <th>cdm</th>\n",
       "      <th>rdm</th>\n",
       "      <th>rwb</th>\n",
       "      <th>lb</th>\n",
       "      <th>lcb</th>\n",
       "      <th>cb</th>\n",
       "      <th>rcb</th>\n",
       "      <th>rb</th>\n",
       "    </tr>\n",
       "  </thead>\n",
       "  <tbody>\n",
       "    <tr>\n",
       "      <th>0</th>\n",
       "      <td>158023</td>\n",
       "      <td>https://sofifa.com/player/158023/lionel-messi/...</td>\n",
       "      <td>L. Messi</td>\n",
       "      <td>Lionel Andrés Messi Cuccittini</td>\n",
       "      <td>32</td>\n",
       "      <td>1987-06-24</td>\n",
       "      <td>170</td>\n",
       "      <td>72</td>\n",
       "      <td>Argentina</td>\n",
       "      <td>FC Barcelona</td>\n",
       "      <td>...</td>\n",
       "      <td>68+2</td>\n",
       "      <td>66+2</td>\n",
       "      <td>66+2</td>\n",
       "      <td>66+2</td>\n",
       "      <td>68+2</td>\n",
       "      <td>63+2</td>\n",
       "      <td>52+2</td>\n",
       "      <td>52+2</td>\n",
       "      <td>52+2</td>\n",
       "      <td>63+2</td>\n",
       "    </tr>\n",
       "    <tr>\n",
       "      <th>1</th>\n",
       "      <td>20801</td>\n",
       "      <td>https://sofifa.com/player/20801/c-ronaldo-dos-...</td>\n",
       "      <td>Cristiano Ronaldo</td>\n",
       "      <td>Cristiano Ronaldo dos Santos Aveiro</td>\n",
       "      <td>34</td>\n",
       "      <td>1985-02-05</td>\n",
       "      <td>187</td>\n",
       "      <td>83</td>\n",
       "      <td>Portugal</td>\n",
       "      <td>Juventus</td>\n",
       "      <td>...</td>\n",
       "      <td>65+3</td>\n",
       "      <td>61+3</td>\n",
       "      <td>61+3</td>\n",
       "      <td>61+3</td>\n",
       "      <td>65+3</td>\n",
       "      <td>61+3</td>\n",
       "      <td>53+3</td>\n",
       "      <td>53+3</td>\n",
       "      <td>53+3</td>\n",
       "      <td>61+3</td>\n",
       "    </tr>\n",
       "    <tr>\n",
       "      <th>2</th>\n",
       "      <td>190871</td>\n",
       "      <td>https://sofifa.com/player/190871/neymar-da-sil...</td>\n",
       "      <td>Neymar Jr</td>\n",
       "      <td>Neymar da Silva Santos Junior</td>\n",
       "      <td>27</td>\n",
       "      <td>1992-02-05</td>\n",
       "      <td>175</td>\n",
       "      <td>68</td>\n",
       "      <td>Brazil</td>\n",
       "      <td>Paris Saint-Germain</td>\n",
       "      <td>...</td>\n",
       "      <td>66+3</td>\n",
       "      <td>61+3</td>\n",
       "      <td>61+3</td>\n",
       "      <td>61+3</td>\n",
       "      <td>66+3</td>\n",
       "      <td>61+3</td>\n",
       "      <td>46+3</td>\n",
       "      <td>46+3</td>\n",
       "      <td>46+3</td>\n",
       "      <td>61+3</td>\n",
       "    </tr>\n",
       "    <tr>\n",
       "      <th>3</th>\n",
       "      <td>200389</td>\n",
       "      <td>https://sofifa.com/player/200389/jan-oblak/20/...</td>\n",
       "      <td>J. Oblak</td>\n",
       "      <td>Jan Oblak</td>\n",
       "      <td>26</td>\n",
       "      <td>1993-01-07</td>\n",
       "      <td>188</td>\n",
       "      <td>87</td>\n",
       "      <td>Slovenia</td>\n",
       "      <td>Atlético Madrid</td>\n",
       "      <td>...</td>\n",
       "      <td>NaN</td>\n",
       "      <td>NaN</td>\n",
       "      <td>NaN</td>\n",
       "      <td>NaN</td>\n",
       "      <td>NaN</td>\n",
       "      <td>NaN</td>\n",
       "      <td>NaN</td>\n",
       "      <td>NaN</td>\n",
       "      <td>NaN</td>\n",
       "      <td>NaN</td>\n",
       "    </tr>\n",
       "    <tr>\n",
       "      <th>4</th>\n",
       "      <td>183277</td>\n",
       "      <td>https://sofifa.com/player/183277/eden-hazard/2...</td>\n",
       "      <td>E. Hazard</td>\n",
       "      <td>Eden Hazard</td>\n",
       "      <td>28</td>\n",
       "      <td>1991-01-07</td>\n",
       "      <td>175</td>\n",
       "      <td>74</td>\n",
       "      <td>Belgium</td>\n",
       "      <td>Real Madrid</td>\n",
       "      <td>...</td>\n",
       "      <td>66+3</td>\n",
       "      <td>63+3</td>\n",
       "      <td>63+3</td>\n",
       "      <td>63+3</td>\n",
       "      <td>66+3</td>\n",
       "      <td>61+3</td>\n",
       "      <td>49+3</td>\n",
       "      <td>49+3</td>\n",
       "      <td>49+3</td>\n",
       "      <td>61+3</td>\n",
       "    </tr>\n",
       "  </tbody>\n",
       "</table>\n",
       "<p>5 rows × 104 columns</p>\n",
       "</div>"
      ],
      "text/plain": [
       "   sofifa_id                                         player_url  \\\n",
       "0     158023  https://sofifa.com/player/158023/lionel-messi/...   \n",
       "1      20801  https://sofifa.com/player/20801/c-ronaldo-dos-...   \n",
       "2     190871  https://sofifa.com/player/190871/neymar-da-sil...   \n",
       "3     200389  https://sofifa.com/player/200389/jan-oblak/20/...   \n",
       "4     183277  https://sofifa.com/player/183277/eden-hazard/2...   \n",
       "\n",
       "          short_name                            long_name  age         dob  \\\n",
       "0           L. Messi       Lionel Andrés Messi Cuccittini   32  1987-06-24   \n",
       "1  Cristiano Ronaldo  Cristiano Ronaldo dos Santos Aveiro   34  1985-02-05   \n",
       "2          Neymar Jr        Neymar da Silva Santos Junior   27  1992-02-05   \n",
       "3           J. Oblak                            Jan Oblak   26  1993-01-07   \n",
       "4          E. Hazard                          Eden Hazard   28  1991-01-07   \n",
       "\n",
       "   height_cm  weight_kg nationality                 club  ...   lwb   ldm  \\\n",
       "0        170         72   Argentina         FC Barcelona  ...  68+2  66+2   \n",
       "1        187         83    Portugal             Juventus  ...  65+3  61+3   \n",
       "2        175         68      Brazil  Paris Saint-Germain  ...  66+3  61+3   \n",
       "3        188         87    Slovenia      Atlético Madrid  ...   NaN   NaN   \n",
       "4        175         74     Belgium          Real Madrid  ...  66+3  63+3   \n",
       "\n",
       "    cdm   rdm   rwb    lb   lcb    cb   rcb    rb  \n",
       "0  66+2  66+2  68+2  63+2  52+2  52+2  52+2  63+2  \n",
       "1  61+3  61+3  65+3  61+3  53+3  53+3  53+3  61+3  \n",
       "2  61+3  61+3  66+3  61+3  46+3  46+3  46+3  61+3  \n",
       "3   NaN   NaN   NaN   NaN   NaN   NaN   NaN   NaN  \n",
       "4  63+3  63+3  66+3  61+3  49+3  49+3  49+3  61+3  \n",
       "\n",
       "[5 rows x 104 columns]"
      ]
     },
     "execution_count": 1,
     "metadata": {},
     "output_type": "execute_result"
    }
   ],
   "source": [
    "# Setup\n",
    "import pandas as pd\n",
    "import seaborn as sns\n",
    "import matplotlib.pyplot as plt\n",
    "import numpy as np\n",
    "%matplotlib inline\n",
    "df = pd.read_csv(\"players_20.csv\")\n",
    "df.head()"
   ]
  },
  {
   "cell_type": "code",
   "execution_count": 41,
   "metadata": {
    "scrolled": true
   },
   "outputs": [
    {
     "data": {
      "text/plain": [
       "0      RW, CF, ST\n",
       "1          ST, LW\n",
       "2         LW, CAM\n",
       "3              GK\n",
       "4          LW, CF\n",
       "5         CAM, CM\n",
       "6              GK\n",
       "7              CB\n",
       "8              CM\n",
       "9          RW, ST\n",
       "10         ST, RW\n",
       "11             CB\n",
       "12             ST\n",
       "13             GK\n",
       "14             GK\n",
       "15        CDM, CM\n",
       "16             CB\n",
       "17             ST\n",
       "18             CB\n",
       "19             ST\n",
       "20             ST\n",
       "21        CDM, CM\n",
       "22     CF, ST, LW\n",
       "23        CAM, RW\n",
       "24        CM, CDM\n",
       "25             GK\n",
       "26         RW, LW\n",
       "27        CAM, CM\n",
       "28             GK\n",
       "29             CB\n",
       "30             GK\n",
       "31             GK\n",
       "32             GK\n",
       "33        CAM, CM\n",
       "34             ST\n",
       "35             CB\n",
       "36             CM\n",
       "37    CAM, LM, ST\n",
       "38         ST, LM\n",
       "39         LW, LM\n",
       "40         CB, LB\n",
       "41    RW, CAM, CM\n",
       "42            CDM\n",
       "43         CF, LM\n",
       "44            CDM\n",
       "45             CB\n",
       "46         CF, ST\n",
       "47             CB\n",
       "48         CF, ST\n",
       "49             CB\n",
       "Name: player_positions, dtype: object"
      ]
     },
     "execution_count": 41,
     "metadata": {},
     "output_type": "execute_result"
    }
   ],
   "source": [
    "# Simplify the data by removing unnecessary columns\n",
    "no_need_cols = [\n",
    "    'player_url',\n",
    "    'long_name',\n",
    "    'body_type',\n",
    "    'dob',\n",
    "    'real_face',\n",
    "    'release_clause_eur',\n",
    "    'player_tags',\n",
    "    'team_position',\n",
    "    'team_jersey_number',\n",
    "    'loaned_from',\n",
    "    'joined',\n",
    "    'contract_valid_unti',\n",
    "    'nation_position',\n",
    "    'nation_jersey_number',\n",
    "    'international_reputation',\n",
    "    'contract_valid_until',\n",
    "    'value_eur',\n",
    "    'wage_eur'\n",
    "]\n",
    "\n",
    "for cl in df.columns:\n",
    "    if cl in no_need_cols:\n",
    "        del df[cl]"
   ]
  },
  {
   "cell_type": "code",
   "execution_count": 3,
   "metadata": {},
   "outputs": [
    {
     "data": {
      "text/plain": [
       "0    68\n",
       "1    78\n",
       "2    49\n",
       "3    78\n",
       "4    63\n",
       "Name: power_strength, dtype: int64"
      ]
     },
     "execution_count": 3,
     "metadata": {},
     "output_type": "execute_result"
    }
   ],
   "source": [
    "#  Best GoalKeeper\n",
    "# weights\n",
    "a = 0.5\n",
    "b = 1\n",
    "c = 1.5\n",
    "d = 2\n",
    "\n",
    "# Ideal GK = One good at stopping shots and good with his feet(passing, clearing)\n",
    "# Ideal Shot Stopper GK chrachteristics\n",
    "df['gk_Shot_Stopper'] = (a*df.gk_speed + a*df.power_jumping + b*df.movement_reactions + b*df.mentality_composure + b*df.power_strength + c*df.gk_positioning + c*df.gk_diving + c*df.gk_reflexes + c*df.gk_handling)/(4*a + 1*b + 4*c + 1*d)\n",
    "df['gk_Sweeper'] =( a*df.gk_speed + a*df.power_jumping + b*df.gk_kicking + b + df.mentality_vision + b*df.mentality_composure + b*df.movement_reactions + b*df.power_strength + c*df.gk_diving + c*df.gk_reflexes + c*df.gk_handling + d*df.gk_positioning)/(2*a + 5*b + 3*c + 1*d)\n",
    "df.power_strength.head()"
   ]
  },
  {
   "cell_type": "code",
   "execution_count": 4,
   "metadata": {
    "scrolled": true
   },
   "outputs": [],
   "source": [
    "# make the data sequential and plot\n",
    "# plt.figure(figsize=(15,6))\n",
    "# sd = df.sort_values('gk_Shot_Stopper', ascending=False)[:10]\n",
    "# x1 = np.array(list(sd['short_name']))\n",
    "# y1 = np.array(list(sd['gk_Shot_Stopper']))\n",
    "# sns.barplot(x1, y1, palette= \"colorblind\")\n",
    "# plt.ylabel(\"Shot Stopping Score\")"
   ]
  },
  {
   "cell_type": "code",
   "execution_count": 5,
   "metadata": {},
   "outputs": [],
   "source": [
    "# plt.figure(figsize=(15,6))\n",
    "# sd = df.sort_values('gk_Sweeper', ascending=False)[:10]\n",
    "# x2 = np.array(list(sd['short_name']))\n",
    "# y2 = np.array(list(sd['gk_Sweeper']))\n",
    "# sns.barplot(x2, y2, palette= \"colorblind\")\n",
    "# plt.ylabel(\"Sweeping Score\")"
   ]
  },
  {
   "cell_type": "code",
   "execution_count": 44,
   "metadata": {},
   "outputs": [],
   "source": [
    "df['df_centre_backs'] = (a*df.skill_long_passing +a*df.passing + a*df.movement_acceleration + a*df.pace + b*df.mentality_composure + c*df.mentality_interceptions + d*df.defending + d*df.defending_sliding_tackle + d*df.defending_standing_tackle + b*df.power_stamina + d*df.power_jumping + d*df.attacking_heading_accuracy + d*df.defending_marking + c*df.mentality_aggression)/(3*a + 2*b + 2*c + 6*d)\n",
    "df['df_wing_backs']   = (a*df.dribbling + a*df.mentality_vision + b*df.defending + b*df.defending_marking + b*df.skill_ball_control + b*df.defending_standing_tackle + b*df.attacking_short_passing + c*df.attacking_crossing + c*df.skill_long_passing + d*df.movement_acceleration + d*df.pace + d*df.power_stamina)/(2*a + 5*b + 2*c + 3*d)"
   ]
  },
  {
   "cell_type": "code",
   "execution_count": 45,
   "metadata": {},
   "outputs": [
    {
     "data": {
      "text/plain": [
       "Text(0, 0.5, 'defending score')"
      ]
     },
     "execution_count": 45,
     "metadata": {},
     "output_type": "execute_result"
    },
    {
     "data": {
      "image/png": "[encoded data removed]",
      "text/plain": [
       "<Figure size 1080x432 with 1 Axes>"
      ]
     },
     "metadata": {
      "needs_background": "light"
     },
     "output_type": "display_data"
    }
   ],
   "source": [
    "plt.figure(figsize=(15,6))\n",
    "sd = df[(df['player_positions'] == 'CB')].sort_values('df_centre_backs', ascending=False)[:10]\n",
    "x3 = np.array(list(sd['short_name']))\n",
    "y3 = np.array(list(sd['df_centre_backs']))\n",
    "sns.barplot(x3, y3, palette= \"colorblind\")\n",
    "plt.ylabel(\"defending score\")"
   ]
  },
  {
   "cell_type": "code",
   "execution_count": 46,
   "metadata": {},
   "outputs": [
    {
     "data": {
      "text/plain": [
       "Text(0, 0.5, 'defending score')"
      ]
     },
     "execution_count": 46,
     "metadata": {},
     "output_type": "execute_result"
    },
    {
     "data": {
      "image/png": "[encoded data removed]",
      "text/plain": [
       "<Figure size 1080x432 with 1 Axes>"
      ]
     },
     "metadata": {
      "needs_background": "light"
     },
     "output_type": "display_data"
    }
   ],
   "source": [
    "plt.figure(figsize=(15,6))\n",
    "sd = df[(df['player_positions'] == 'LB')].sort_values('df_wing_backs', ascending=False)[:10]\n",
    "x4 = np.array(list(sd['short_name']))\n",
    "y4 = np.array(list(sd['df_wing_backs']))\n",
    "sns.barplot(x4, y4, palette= \"colorblind\")\n",
    "plt.ylabel(\"defending score\")"
   ]
  },
  {
   "cell_type": "code",
   "execution_count": 47,
   "metadata": {},
   "outputs": [
    {
     "data": {
      "text/plain": [
       "Text(0, 0.5, 'defending score')"
      ]
     },
     "execution_count": 47,
     "metadata": {},
     "output_type": "execute_result"
    },
    {
     "data": {
      "image/png": "[encoded data removed]",
      "text/plain": [
       "<Figure size 1080x432 with 1 Axes>"
      ]
     },
     "metadata": {
      "needs_background": "light"
     },
     "output_type": "display_data"
    }
   ],
   "source": [
    "plt.figure(figsize=(15,6))\n",
    "sd = df[(df['player_positions'] == 'RB')].sort_values('df_wing_backs', ascending=False)[:10]\n",
    "x5 = np.array(list(sd['short_name']))\n",
    "y5 = np.array(list(sd['df_wing_backs']))\n",
    "sns.barplot(x5, y5, palette= \"colorblind\")\n",
    "plt.ylabel(\"defending score\")"
   ]
  },
  {
   "cell_type": "code",
   "execution_count": 68,
   "metadata": {},
   "outputs": [],
   "source": [
    "# midfielders\n",
    "df['cmf_playmaker'] = (d*df.skill_ball_control + d*df.dribbling + a*df.defending_marking + d*df.movement_reactions + d*df.mentality_vision + c*df.mentality_positioning + c*df.attacking_crossing + d*df.attacking_short_passing + c*df.skill_long_passing + c*df.skill_curve + b*df.power_long_shots + c*df.skill_fk_accuracy)/(1*a + 1*b + 4*c + 4*d)\n",
    "df['cdm_destroyer'] = (d*df.movement_agility + c*df.movement_balance + b*df.power_jumping + c*df.power_strength + c*df.physic + d*df.power_stamina + a*df.movement_acceleration + d*df.passing + c*df.mentality_aggression + d*df.movement_reactions + b*df.defending_marking + b*df.defending_standing_tackle + b*df.defending_sliding_tackle + b*df.mentality_interceptions)/(1*a + 5*b + 4*c + 4*d)\n",
    "df['cmf_box_to_box'] = (b*df.weak_foot + d*df.skill_ball_control + a*df.dribbling + a*df.defending_marking + a*df.movement_reactions + c*df.mentality_vision + c*df.mentality_composure + d*df.passing + d*df.skill_long_passing + d*df.power_stamina + b*df.movement_acceleration + b*df.pace)/(2*c + 4*d + 4*a + b*2)"
   ]
  },
  {
   "cell_type": "code",
   "execution_count": 69,
   "metadata": {},
   "outputs": [
    {
     "data": {
      "text/plain": [
       "Text(0, 0.5, 'playmaking score')"
      ]
     },
     "execution_count": 69,
     "metadata": {},
     "output_type": "execute_result"
    },
    {
     "data": {
      "image/png": "[encoded data removed]",
      "text/plain": [
       "<Figure size 1080x432 with 1 Axes>"
      ]
     },
     "metadata": {
      "needs_background": "light"
     },
     "output_type": "display_data"
    }
   ],
   "source": [
    "plt.figure(figsize=(15,6))\n",
    "sd = df[(df['player_positions'] == 'CM') | (df['player_positions'] == 'LM')].sort_values('cmf_playmaker', ascending=False)[:10]\n",
    "x6 = np.array(list(sd['short_name']))\n",
    "y6 = np.array(list(sd['cmf_playmaker']))\n",
    "sns.barplot(x6, y6, palette= \"colorblind\")\n",
    "plt.ylabel(\"playmaking score\")"
   ]
  },
  {
   "cell_type": "code",
   "execution_count": 70,
   "metadata": {},
   "outputs": [
    {
     "data": {
      "text/plain": [
       "Text(0, 0.5, 'interception score')"
      ]
     },
     "execution_count": 70,
     "metadata": {},
     "output_type": "execute_result"
    },
    {
     "data": {
      "image/png": "[encoded data removed]",
      "text/plain": [
       "<Figure size 1080x432 with 1 Axes>"
      ]
     },
     "metadata": {
      "needs_background": "light"
     },
     "output_type": "display_data"
    }
   ],
   "source": [
    "plt.figure(figsize=(15,6))\n",
    "sd = df[(df['player_positions'] == 'CDM')].sort_values('cdm_destroyer', ascending=False)[:10]\n",
    "x7 = np.array(list(sd['short_name']))\n",
    "y7 = np.array(list(sd['cdm_destroyer']))\n",
    "sns.barplot(x7, y7, palette= \"colorblind\")\n",
    "plt.ylabel(\"interception score\")"
   ]
  },
  {
   "cell_type": "code",
   "execution_count": 71,
   "metadata": {},
   "outputs": [
    {
     "data": {
      "text/plain": [
       "Text(0, 0.5, 'pressing score')"
      ]
     },
     "execution_count": 71,
     "metadata": {},
     "output_type": "execute_result"
    },
    {
     "data": {
      "image/png": "[encoded data removed]",
      "text/plain": [
       "<Figure size 1080x432 with 1 Axes>"
      ]
     },
     "metadata": {
      "needs_background": "light"
     },
     "output_type": "display_data"
    }
   ],
   "source": [
    "plt.figure(figsize=(15,6))\n",
    "sd = df[(df['player_positions'] == 'CM') | (df['player_positions'] == 'RM')].sort_values('cmf_box_to_box', ascending=False)[:10]\n",
    "x6 = np.array(list(sd['short_name']))\n",
    "y6 = np.array(list(sd['cmf_box_to_box']))\n",
    "sns.barplot(x6, y6, palette= \"colorblind\")\n",
    "plt.ylabel(\"pressing score\")"
   ]
  },
  {
   "cell_type": "code",
   "execution_count": null,
   "metadata": {},
   "outputs": [],
   "source": []
  }
 ],
 "metadata": {
  "kernelspec": {
   "display_name": "Python 3",
   "language": "python",
   "name": "python3"
  },
  "language_info": {
   "codemirror_mode": {
    "name": "ipython",
    "version": 3
   },
   "file_extension": ".py",
   "mimetype": "text/x-python",
   "name": "python",
   "nbconvert_exporter": "python",
   "pygments_lexer": "ipython3",
   "version": "3.7.5"
  }
 },
 "nbformat": 4,
 "nbformat_minor": 2
}
